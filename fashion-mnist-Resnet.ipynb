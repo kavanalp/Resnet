{
 "cells": [
  {
   "cell_type": "code",
   "execution_count": 2,
   "metadata": {
    "ExecuteTime": {
     "end_time": "2022-05-12T10:13:43.658650Z",
     "start_time": "2022-05-12T10:13:40.487995Z"
    },
    "_cell_guid": "79c7e3d0-c299-4dcb-8224-4455121ee9b0",
    "_uuid": "d629ff2d2480ee46fbb7e2d37f6b5fab8052498a"
   },
   "outputs": [],
   "source": [
    "from __future__ import print_function, division\n",
    "\n",
    "import torch\n",
    "import torch.nn as nn\n",
    "import torch.optim as optim\n",
    "from torch.optim import lr_scheduler\n",
    "from torchvision import models, transforms\n",
    "import matplotlib.pyplot as plt\n",
    "import time\n",
    "import copy\n",
    "import pandas as pd\n",
    "import numpy as np \n",
    "import os\n",
    "\n",
    "from sklearn.model_selection import train_test_split\n",
    "from torch.utils.data import DataLoader, Dataset"
   ]
  },
  {
   "cell_type": "markdown",
   "metadata": {},
   "source": [
    "# Data preparation"
   ]
  },
  {
   "cell_type": "code",
   "execution_count": 3,
   "metadata": {
    "ExecuteTime": {
     "end_time": "2022-05-12T10:13:43.667867Z",
     "start_time": "2022-05-12T10:13:43.664032Z"
    }
   },
   "outputs": [],
   "source": [
    "# define custom dataset\n",
    "class MyDataset(Dataset):\n",
    "    def __init__(self, feature, target=None, transform=None):\n",
    "\n",
    "        self.X = feature\n",
    "        self.Y = target\n",
    "        self.transform = transform\n",
    "\n",
    "    def __len__(self):\n",
    "        return len(self.X)\n",
    "\n",
    "    def __getitem__(self, idx):\n",
    "        if self.transform is not None:\n",
    "            return self.transform(self.X[idx]), self.Y[idx]\n",
    "        elif self.Y is None:\n",
    "            return [self.X[idx]]\n",
    "        return self.X[idx], self.Y[idx]"
   ]
  },
  {
   "cell_type": "code",
   "execution_count": 4,
   "metadata": {
    "ExecuteTime": {
     "end_time": "2022-05-12T10:21:17.216818Z",
     "start_time": "2022-05-12T10:20:43.750194Z"
    }
   },
   "outputs": [],
   "source": [
    "train_data_dir = \"/Users/kavanalipanahi/Downloads/fashion-mnist_train.csv\"\n",
    "test_data_dir = \"/Users/kavanalipanahi/Downloads/fashion-mnist_test.csv\"\n",
    "\n",
    "# load data\n",
    "train = pd.read_csv(train_data_dir)\n",
    "test = pd.read_csv(test_data_dir)\n",
    "\n",
    "test_label = test['label']\n",
    "test.drop(['label'], axis=1, inplace=True)\n",
    "\n",
    "raw_train_labels = train[\"label\"]\n",
    "raw_train_imgs = train.drop(labels=[\"label\"], axis=1)\n",
    "\n",
    "# normalize data\n",
    "normalized_train = raw_train_imgs / 255.0\n",
    "normalized_test = test / 255.0\n",
    "\n",
    "# split data into train and validation\n",
    "train_split, validation_split, train_labels_split, validation_labels_split = train_test_split(\n",
    "    normalized_train, raw_train_labels, random_state=0)\n",
    "\n",
    "# data reshape\n",
    "test_data = torch.from_numpy(normalized_test.values.reshape((-1, 1, 28, 28)))\n",
    "train_data = torch.from_numpy(train_split.values.reshape((-1, 1, 28, 28)))\n",
    "train_labels_data = torch.from_numpy(train_labels_split.values)\n",
    "validation_data = torch.from_numpy(\n",
    "    validation_split.values.reshape((-1, 1, 28, 28)))\n",
    "validation_labels_data = torch.from_numpy(validation_labels_split.values)\n",
    "\n",
    "# make data loader\n",
    "train_set = MyDataset(train_data.float(), train_labels_data)\n",
    "valid_set = MyDataset(validation_data.float(), validation_labels_data)\n",
    "test_set = MyDataset(test_data.float())\n",
    "batch_size = 100\n",
    "train_loader = torch.utils.data.DataLoader(train_set,\n",
    "                                           batch_size=batch_size,\n",
    "                                           shuffle=True)\n",
    "valid_loader = torch.utils.data.DataLoader(valid_set,\n",
    "                                           batch_size=batch_size,\n",
    "                                           shuffle=False)\n",
    "test_loader = torch.utils.data.DataLoader(test_set,\n",
    "                                          batch_size=batch_size,\n",
    "                                          shuffle=False)"
   ]
  },
  {
   "cell_type": "markdown",
   "metadata": {},
   "source": [
    "# Define train function"
   ]
  },
  {
   "cell_type": "code",
   "execution_count": 6,
   "metadata": {
    "ExecuteTime": {
     "end_time": "2022-05-12T10:21:43.754597Z",
     "start_time": "2022-05-12T10:21:43.727032Z"
    }
   },
   "outputs": [],
   "source": [
    "device = torch.device(\"cuda:0\" if torch.cuda.is_available() else \"cpu\")\n",
    "dataloaders = {'train': train_loader, 'val': valid_loader}\n",
    "dataset_sizes = {'train': len(train_set), 'val': len(valid_set)}\n",
    "\n",
    "\n",
    "def train_model(model,\n",
    "                criterion,\n",
    "                optimizer,\n",
    "                scheduler,\n",
    "                dataloaders,\n",
    "                dataset_sizes,\n",
    "                num_epochs=25):\n",
    "    since = time.time()\n",
    "\n",
    "    best_model_wts = copy.deepcopy(model.state_dict())\n",
    "    best_acc = 0.0\n",
    "\n",
    "    for epoch in range(num_epochs):\n",
    "        #print('Epoch {}/{}'.format(epoch, num_epochs - 1))\n",
    "        #print('-' * 10)\n",
    "\n",
    "        # Each epoch has a training and validation phase\n",
    "        for phase in ['train', 'val']:\n",
    "            if phase == 'train':\n",
    "                model.train()  # Set model to training mode\n",
    "            else:\n",
    "                model.eval()  # Set model to evaluate mode\n",
    "\n",
    "            running_loss = 0.0\n",
    "            running_corrects = 0\n",
    "\n",
    "            # Iterate over data.\n",
    "            for inputs, labels in dataloaders[phase]:\n",
    "                inputs = inputs.to(device)\n",
    "                labels = labels.to(device)\n",
    "\n",
    "                # zero the parameter gradients\n",
    "                optimizer.zero_grad()\n",
    "\n",
    "                # forward\n",
    "                # track history if only in train\n",
    "                with torch.set_grad_enabled(phase == 'train'):\n",
    "                    outputs = model(inputs)\n",
    "                    _, preds = torch.max(outputs, 1)\n",
    "                    loss = criterion(outputs, labels)\n",
    "\n",
    "                    # backward + optimize only if in training phase\n",
    "                    if phase == 'train':\n",
    "                        loss.backward()\n",
    "                        optimizer.step()\n",
    "\n",
    "                # statistics\n",
    "                running_loss += loss.item() * inputs.size(0)\n",
    "                running_corrects += torch.sum(preds == labels.data)\n",
    "            if phase == 'train':\n",
    "                scheduler.step()\n",
    "\n",
    "            epoch_loss = running_loss / dataset_sizes[phase]\n",
    "            epoch_acc = running_corrects.double() / dataset_sizes[phase]\n",
    "\n",
    "            #print('{} Loss: {:.4f} Acc: {:.4f}'.format(\n",
    "            #    phase, epoch_loss, epoch_acc))\n",
    "            print(\n",
    "                f'epoch: {epoch} accuarcy: {epoch_acc:.4f} loss: {epoch_loss:.4f}'\n",
    "            )\n",
    "\n",
    "            if phase == 'val' and epoch_acc > best_acc:\n",
    "                best_acc = epoch_acc\n",
    "                best_model_wts = copy.deepcopy(model.state_dict())\n",
    "\n",
    "        #print()\n",
    "\n",
    "    time_elapsed = time.time() - since\n",
    "    print('Training complete in {:.0f}m {:.0f}s'.format(\n",
    "        time_elapsed // 60, time_elapsed % 60))\n",
    "    print('Best val Acc: {:4f}'.format(best_acc))\n",
    "\n",
    "    # load best model weights\n",
    "    model.load_state_dict(best_model_wts)\n",
    "\n",
    "    return model"
   ]
  },
  {
   "cell_type": "markdown",
   "metadata": {},
   "source": [
    "# Make model and Training"
   ]
  },
  {
   "cell_type": "code",
   "execution_count": 7,
   "metadata": {
    "ExecuteTime": {
     "end_time": "2022-05-12T11:43:48.503833Z",
     "start_time": "2022-05-12T10:21:45.653493Z"
    }
   },
   "outputs": [
    {
     "name": "stdout",
     "output_type": "stream",
     "text": [
      "epoch: 0 accuarcy: 0.6631 loss: 0.8953\n",
      "epoch: 0 accuarcy: 0.8132 loss: 0.4924\n",
      "epoch: 1 accuarcy: 0.7623 loss: 0.6312\n",
      "epoch: 1 accuarcy: 0.8104 loss: 0.5234\n",
      "epoch: 2 accuarcy: 0.7899 loss: 0.5607\n",
      "epoch: 2 accuarcy: 0.8288 loss: 0.4800\n",
      "epoch: 3 accuarcy: 0.8125 loss: 0.4970\n",
      "epoch: 3 accuarcy: 0.8672 loss: 0.3797\n",
      "epoch: 4 accuarcy: 0.8249 loss: 0.4629\n",
      "epoch: 4 accuarcy: 0.8684 loss: 0.3629\n",
      "epoch: 5 accuarcy: 0.8587 loss: 0.3760\n",
      "epoch: 5 accuarcy: 0.8804 loss: 0.3243\n",
      "epoch: 6 accuarcy: 0.8701 loss: 0.3419\n",
      "epoch: 6 accuarcy: 0.8892 loss: 0.3149\n",
      "epoch: 7 accuarcy: 0.8776 loss: 0.3279\n",
      "epoch: 7 accuarcy: 0.8912 loss: 0.3164\n",
      "epoch: 8 accuarcy: 0.8797 loss: 0.3152\n",
      "epoch: 8 accuarcy: 0.8896 loss: 0.3292\n",
      "epoch: 9 accuarcy: 0.8835 loss: 0.3044\n",
      "epoch: 9 accuarcy: 0.8876 loss: 0.3436\n",
      "epoch: 10 accuarcy: 0.8921 loss: 0.2896\n",
      "epoch: 10 accuarcy: 0.8872 loss: 0.3369\n",
      "epoch: 11 accuarcy: 0.8973 loss: 0.2757\n",
      "epoch: 11 accuarcy: 0.8880 loss: 0.3336\n",
      "epoch: 12 accuarcy: 0.8955 loss: 0.2815\n",
      "epoch: 12 accuarcy: 0.8892 loss: 0.3362\n",
      "epoch: 13 accuarcy: 0.8979 loss: 0.2737\n",
      "epoch: 13 accuarcy: 0.8856 loss: 0.3417\n",
      "epoch: 14 accuarcy: 0.8980 loss: 0.2752\n",
      "epoch: 14 accuarcy: 0.8888 loss: 0.3360\n",
      "epoch: 15 accuarcy: 0.8995 loss: 0.2686\n",
      "epoch: 15 accuarcy: 0.8888 loss: 0.3384\n",
      "epoch: 16 accuarcy: 0.8975 loss: 0.2752\n",
      "epoch: 16 accuarcy: 0.8920 loss: 0.3401\n",
      "epoch: 17 accuarcy: 0.8984 loss: 0.2684\n",
      "epoch: 17 accuarcy: 0.8900 loss: 0.3430\n",
      "epoch: 18 accuarcy: 0.8997 loss: 0.2675\n",
      "epoch: 18 accuarcy: 0.8920 loss: 0.3431\n",
      "epoch: 19 accuarcy: 0.8983 loss: 0.2689\n",
      "epoch: 19 accuarcy: 0.8900 loss: 0.3383\n",
      "Training complete in 82m 2s\n",
      "Best val Acc: 0.892000\n"
     ]
    }
   ],
   "source": [
    "epochs = 20\n",
    "\n",
    "# make resnet 18 model\n",
    "model_ft = models.resnet18(pretrained=False)\n",
    "\n",
    "# change input layer\n",
    "# the default number of input channel in the resnet is 3, but our images are 1 channel. So we have to change 3 to 1.\n",
    "# nn.Conv2d(3, 64, kernel_size=(7, 7), stride=(2, 2), padding=(3, 3), bias=False) <- default\n",
    "model_ft.conv1 = nn.Conv2d(1,\n",
    "                           64,\n",
    "                           kernel_size=(7, 7),\n",
    "                           stride=(2, 2),\n",
    "                           padding=(3, 3),\n",
    "                           bias=False)\n",
    "\n",
    "# change fc layer\n",
    "# the number of classes in our dataset is 10. default is 1000.\n",
    "num_ftrs = model_ft.fc.in_features\n",
    "model_ft.fc = nn.Linear(num_ftrs, 10)\n",
    "\n",
    "model_ft = model_ft.to(device)\n",
    "\n",
    "criterion = nn.CrossEntropyLoss()\n",
    "\n",
    "optimizer_ft = optim.Adam(model_ft.parameters(), lr=0.001)\n",
    "\n",
    "# decay LR by a factor of 0.1 every 5 epochs\n",
    "exp_lr_scheduler = lr_scheduler.StepLR(optimizer_ft, step_size=5, gamma=0.1)\n",
    "\n",
    "# train model\n",
    "model_ft = train_model(model_ft,\n",
    "                       criterion,\n",
    "                       optimizer_ft,\n",
    "                       exp_lr_scheduler,\n",
    "                       dataloaders,\n",
    "                       dataset_sizes,\n",
    "                       num_epochs=epochs)"
   ]
  },
  {
   "cell_type": "markdown",
   "metadata": {},
   "source": [
    "# Predict"
   ]
  },
  {
   "cell_type": "code",
   "execution_count": 8,
   "metadata": {
    "ExecuteTime": {
     "end_time": "2022-05-12T12:25:24.982782Z",
     "start_time": "2022-05-12T12:23:53.934031Z"
    }
   },
   "outputs": [],
   "source": [
    "test_pred = torch.LongTensor()\n",
    "\n",
    "with torch.no_grad():\n",
    "    for images in test_loader:\n",
    "        images = torch.autograd.Variable(images[0])\n",
    "        if torch.cuda.is_available():\n",
    "            images = images.to(device)\n",
    "\n",
    "        outputs = model_ft(images)\n",
    "        predicted = outputs.cpu().data.max(1, keepdim=True)[1]\n",
    "        test_pred = torch.cat((test_pred, predicted), dim=0)"
   ]
  },
  {
   "cell_type": "markdown",
   "metadata": {},
   "source": [
    "# evaluatoin"
   ]
  },
  {
   "cell_type": "code",
   "execution_count": 12,
   "metadata": {
    "ExecuteTime": {
     "end_time": "2022-05-12T12:32:14.486714Z",
     "start_time": "2022-05-12T12:32:14.481403Z"
    }
   },
   "outputs": [],
   "source": [
    "from sklearn.metrics import accuracy_score"
   ]
  },
  {
   "cell_type": "code",
   "execution_count": 57,
   "metadata": {
    "ExecuteTime": {
     "end_time": "2022-05-13T05:36:17.843969Z",
     "start_time": "2022-05-13T05:36:17.662062Z"
    }
   },
   "outputs": [
    {
     "name": "stdout",
     "output_type": "stream",
     "text": [
      "acc 0.8835\n",
      "\n",
      "Classification report for CNN :\n",
      "              precision    recall  f1-score   support\n",
      "\n",
      "           0       0.82      0.83      0.83      6000\n",
      "           1       0.98      0.98      0.98      6000\n",
      "           2       0.81      0.82      0.82      6000\n",
      "           3       0.89      0.87      0.88      6000\n",
      "           4       0.78      0.82      0.80      6000\n",
      "           5       0.96      0.97      0.96      6000\n",
      "           6       0.70      0.67      0.69      6000\n",
      "           7       0.94      0.95      0.94      6000\n",
      "           8       0.97      0.98      0.98      6000\n",
      "           9       0.96      0.95      0.96      6000\n",
      "\n",
      "    accuracy                           0.88     60000\n",
      "   macro avg       0.88      0.88      0.88     60000\n",
      "weighted avg       0.88      0.88      0.88     60000\n",
      "\n",
      "\n"
     ]
    }
   ],
   "source": [
    "from sklearn.metrics import accuracy_score\n",
    "\n",
    "ts_labs = test_label.to_numpy().reshape(-1, 1)\n",
    "ts_preds = np.array(test_pred)\n",
    "print('acc {:.4f}'.format(accuracy_score(ts_labs, ts_preds)))\n",
    "print('')\n",
    "\n",
    "confusion_matrix(ts_labs, ts_preds)\n",
    "print(\"Classification report for CNN :\\n%s\\n\" %\n",
    "      (metrics.classification_report(ts_labs, ts_preds)))"
   ]
  },
  {
   "cell_type": "code",
   "execution_count": 59,
   "metadata": {
    "ExecuteTime": {
     "end_time": "2022-05-13T06:58:19.382133Z",
     "start_time": "2022-05-13T06:58:19.333655Z"
    }
   },
   "outputs": [
    {
     "data": {
      "text/plain": [
       "0.8834666666666666"
      ]
     },
     "execution_count": 59,
     "metadata": {},
     "output_type": "execute_result"
    }
   ],
   "source": [
    "accuracy_score(ts_labs, ts_preds)"
   ]
  },
  {
   "cell_type": "code",
   "execution_count": 98,
   "metadata": {
    "ExecuteTime": {
     "end_time": "2022-05-13T07:06:47.602527Z",
     "start_time": "2022-05-13T07:06:47.492071Z"
    }
   },
   "outputs": [],
   "source": [
    "report_df_resnet = pd.DataFrame(\n",
    "    metrics.classification_report(ts_labs, ts_preds,\n",
    "                                  output_dict=True)).transpose()"
   ]
  },
  {
   "cell_type": "code",
   "execution_count": 99,
   "metadata": {
    "ExecuteTime": {
     "end_time": "2022-05-13T07:06:48.815393Z",
     "start_time": "2022-05-13T07:06:48.810656Z"
    }
   },
   "outputs": [],
   "source": [
    "output_mapping = {\n",
    "    0: \"T-shirt/Top\",\n",
    "    1: \"Trouser\",\n",
    "    2: \"Pullover\",\n",
    "    3: \"Dress\",\n",
    "    4: \"Coat\",\n",
    "    5: \"Sandal\",\n",
    "    6: \"Shirt\",\n",
    "    7: \"Sneaker\",\n",
    "    8: \"Bag\",\n",
    "    9: \"Ankle Boot\"\n",
    "}"
   ]
  },
  {
   "cell_type": "code",
   "execution_count": 100,
   "metadata": {
    "ExecuteTime": {
     "end_time": "2022-05-13T07:06:50.137213Z",
     "start_time": "2022-05-13T07:06:50.132854Z"
    }
   },
   "outputs": [],
   "source": [
    "report_df_resnet.index = list(output_mapping.values()) + list(\n",
    "    report_df.index[10:])"
   ]
  },
  {
   "cell_type": "code",
   "execution_count": 102,
   "metadata": {
    "ExecuteTime": {
     "end_time": "2022-05-13T07:10:30.455575Z",
     "start_time": "2022-05-13T07:10:30.433450Z"
    }
   },
   "outputs": [],
   "source": [
    "report_df_cnn = pd.read_csv('/Users/kavanalipanahi/Downloads/reponse.csv')"
   ]
  },
  {
   "cell_type": "code",
   "execution_count": 104,
   "metadata": {
    "ExecuteTime": {
     "end_time": "2022-05-13T07:10:54.466866Z",
     "start_time": "2022-05-13T07:10:54.461204Z"
    }
   },
   "outputs": [],
   "source": [
    "report_df_cnn.index = list(output_mapping.values()) + list(\n",
    "    report_df_cnn.index[10:])"
   ]
  },
  {
   "cell_type": "code",
   "execution_count": 111,
   "metadata": {
    "ExecuteTime": {
     "end_time": "2022-05-13T07:13:24.469948Z",
     "start_time": "2022-05-13T07:13:24.460526Z"
    }
   },
   "outputs": [],
   "source": [
    "report_df_cnn = report_df_cnn.head(10)[['f1-score', 'precision', 'recall']]\n",
    "report_df_resnet = report_df_resnet.head(10)[[\n",
    "    'f1-score', 'precision', 'recall'\n",
    "]]"
   ]
  },
  {
   "cell_type": "code",
   "execution_count": 187,
   "metadata": {
    "ExecuteTime": {
     "end_time": "2022-05-13T07:40:14.205038Z",
     "start_time": "2022-05-13T07:40:14.013341Z"
    },
    "scrolled": false
   },
   "outputs": [
    {
     "data": {
      "image/png": "[encoded data removed]",
      "text/plain": [
       "<Figure size 780x520 with 1 Axes>"
      ]
     },
     "metadata": {
      "needs_background": "light"
     },
     "output_type": "display_data"
    }
   ],
   "source": [
    "import matplotlib.pyplot as plt\n",
    "from importlib import reload\n",
    "\n",
    "plt = reload(plt)\n",
    "\n",
    "x = np.arange(0, 20, 2)\n",
    "x_lable = np.array(list(output_mapping.values()))\n",
    "y1 = report_df_cnn['f1-score']\n",
    "y2 = report_df_resnet['f1-score']\n",
    "width = 0.60\n",
    "plt.figure(figsize=(6, 4), dpi=130)\n",
    "\n",
    "# plot data in grouped manner of bar type\n",
    "plt.bar(x - 0.3, y1 * 100, width, color='limegreen', label='ResNet')\n",
    "plt.bar(x + 0.3, y2 * 100, width, color='crimson', label='CNN')\n",
    "plt.title('f1-score')\n",
    "plt.ylabel(\"Value by %\")\n",
    "plt.xticks(x, x_lable)\n",
    "plt.xticks(rotation=-45)\n",
    "plt.legend()\n",
    "\n",
    "plt.show()"
   ]
  },
  {
   "cell_type": "code",
   "execution_count": 190,
   "metadata": {
    "ExecuteTime": {
     "end_time": "2022-05-13T07:43:25.533258Z",
     "start_time": "2022-05-13T07:43:25.368192Z"
    }
   },
   "outputs": [
    {
     "data": {
      "image/png": "[encoded data removed]",
      "text/plain": [
       "<Figure size 780x520 with 1 Axes>"
      ]
     },
     "metadata": {
      "needs_background": "light"
     },
     "output_type": "display_data"
    }
   ],
   "source": [
    "import matplotlib.pyplot as plt\n",
    "from importlib import reload\n",
    "\n",
    "plt = reload(plt)\n",
    "\n",
    "x = np.arange(0, 20, 2)\n",
    "x_lable = np.array(list(output_mapping.values()))\n",
    "y1 = report_df_cnn['precision']\n",
    "y2 = report_df_resnet['precision']\n",
    "width = 0.60\n",
    "plt.figure(figsize=(6, 4), dpi=130)\n",
    "\n",
    "# plot data in grouped manner of bar type\n",
    "plt.bar(x - 0.3, y1 * 100, width, color='limegreen', label='ResNet')\n",
    "plt.bar(x + 0.3, y2 * 100, width, color='crimson', label='CNN')\n",
    "plt.title('Precision')\n",
    "plt.ylabel(\"Valued by %\")\n",
    "plt.xticks(x, x_lable)\n",
    "plt.xticks(rotation=-45)\n",
    "plt.legend()\n",
    "\n",
    "plt.show()"
   ]
  },
  {
   "cell_type": "code",
   "execution_count": 188,
   "metadata": {
    "ExecuteTime": {
     "end_time": "2022-05-13T07:40:34.170605Z",
     "start_time": "2022-05-13T07:40:34.019377Z"
    }
   },
   "outputs": [
    {
     "data": {
      "image/png": "[encoded data removed]",
      "text/plain": [
       "<Figure size 780x520 with 1 Axes>"
      ]
     },
     "metadata": {
      "needs_background": "light"
     },
     "output_type": "display_data"
    }
   ],
   "source": [
    "import matplotlib.pyplot as plt\n",
    "from importlib import reload\n",
    "\n",
    "plt = reload(plt)\n",
    "\n",
    "x = np.arange(0, 20, 2)\n",
    "x_lable = np.array(list(output_mapping.values()))\n",
    "y1 = report_df_cnn['recall']\n",
    "y2 = report_df_resnet['recall']\n",
    "width = 0.60\n",
    "plt.figure(figsize=(6, 4), dpi=130)\n",
    "\n",
    "# plot data in grouped manner of bar type\n",
    "plt.bar(x - 0.3, y1 * 100, width, color='limegreen', label='ResNet')\n",
    "plt.bar(x + 0.3, y2 * 100, width, color='crimson', label='CNN')\n",
    "plt.title('recall')\n",
    "plt.ylabel(\"Value by %\")\n",
    "plt.xticks(x, x_lable)\n",
    "plt.xticks(rotation=-45)\n",
    "plt.legend()\n",
    "\n",
    "plt.show()"
   ]
  }
 ],
 "metadata": {
  "kernelspec": {
   "display_name": "Python 3",
   "language": "python",
   "name": "python3"
  },
  "language_info": {
   "codemirror_mode": {
    "name": "ipython",
    "version": 3
   },
   "file_extension": ".py",
   "mimetype": "text/x-python",
   "name": "python",
   "nbconvert_exporter": "python",
   "pygments_lexer": "ipython3",
   "version": "3.8.8"
  },
  "toc": {
   "base_numbering": 1,
   "nav_menu": {},
   "number_sections": true,
   "sideBar": true,
   "skip_h1_title": false,
   "title_cell": "Table of Contents",
   "title_sidebar": "Contents",
   "toc_cell": false,
   "toc_position": {
    "height": "calc(100% - 180px)",
    "left": "10px",
    "top": "150px",
    "width": "288px"
   },
   "toc_section_display": true,
   "toc_window_display": true
  },
  "varInspector": {
   "cols": {
    "lenName": 16,
    "lenType": 16,
    "lenVar": 40
   },
   "kernels_config": {
    "python": {
     "delete_cmd_postfix": "",
     "delete_cmd_prefix": "del ",
     "library": "var_list.py",
     "varRefreshCmd": "print(var_dic_list())"
    },
    "r": {
     "delete_cmd_postfix": ") ",
     "delete_cmd_prefix": "rm(",
     "library": "var_list.r",
     "varRefreshCmd": "cat(var_dic_list()) "
    }
   },
   "position": {
    "height": "498.852px",
    "left": "1071px",
    "right": "20px",
    "top": "120px",
    "width": "349px"
   },
   "types_to_exclude": [
    "module",
    "function",
    "builtin_function_or_method",
    "instance",
    "_Feature"
   ],
   "window_display": false
  }
 },
 "nbformat": 4,
 "nbformat_minor": 4
}
